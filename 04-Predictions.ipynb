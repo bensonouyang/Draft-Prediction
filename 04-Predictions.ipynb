{
 "cells": [
  {
   "cell_type": "markdown",
   "metadata": {},
   "source": [
    "# Training Ordinal Regression Model"
   ]
  },
  {
   "cell_type": "code",
   "execution_count": 1,
   "metadata": {},
   "outputs": [],
   "source": [
    "import pandas as pd\n",
    "import numpy as np\n",
    "from sklearn.model_selection import train_test_split\n",
    "from statsmodels.miscmodels.ordinal_model import OrderedModel"
   ]
  },
  {
   "cell_type": "code",
   "execution_count": 2,
   "metadata": {},
   "outputs": [],
   "source": [
    "modeldf = pd.read_csv('data/modeldfcategorical.csv')"
   ]
  },
  {
   "cell_type": "code",
   "execution_count": 3,
   "metadata": {},
   "outputs": [],
   "source": [
    "#y = np.array(modeldf['DraftNumber'])\n",
    "#X = np.array(modeldf.drop(columns = ['DraftNumber'], axis = 1))\n",
    "\n",
    "y = modeldf['DraftNumber']\n",
    "X = modeldf.drop(columns = ['DraftNumber'], axis = 1)"
   ]
  },
  {
   "cell_type": "code",
   "execution_count": 4,
   "metadata": {},
   "outputs": [],
   "source": [
    "newy = pd.Series([1 if x<=30 else 2 for x in modeldf['DraftNumber']])"
   ]
  },
  {
   "cell_type": "code",
   "execution_count": 5,
   "metadata": {},
   "outputs": [],
   "source": [
    "eff = (X['PTS']+ X['TRB'] + X['AST'] + X['STL'] + X['BLK'] - (X['FGA']-X['FGM']) - (X['FTA']-X['FTM']))/X['GP']"
   ]
  },
  {
   "cell_type": "code",
   "execution_count": 6,
   "metadata": {},
   "outputs": [],
   "source": [
    "eff_df = pd.DataFrame({'EFF':eff})"
   ]
  },
  {
   "cell_type": "code",
   "execution_count": 7,
   "metadata": {},
   "outputs": [],
   "source": [
    "newx = X.join(eff_df)"
   ]
  },
  {
   "cell_type": "code",
   "execution_count": 8,
   "metadata": {},
   "outputs": [],
   "source": [
    "X_train, X_test, y_train, y_test = train_test_split(X.iloc[:,0:24],y, test_size = 0.25, random_state = 42)"
   ]
  },
  {
   "cell_type": "code",
   "execution_count": 9,
   "metadata": {},
   "outputs": [],
   "source": [
    "X_train1, X_test1, y_train1, y_test1 = train_test_split(X.iloc[:,0:24],newy, test_size = 0.25, random_state = 42)"
   ]
  },
  {
   "cell_type": "code",
   "execution_count": 10,
   "metadata": {},
   "outputs": [],
   "source": [
    "X_train2, X_test2, y_train2, y_test2 = train_test_split(newx.iloc[:,0:21].join(newx.iloc[:,45:]),newy, test_size = 0.25, random_state = 42)"
   ]
  },
  {
   "cell_type": "code",
   "execution_count": 11,
   "metadata": {},
   "outputs": [
    {
     "name": "stdout",
     "output_type": "stream",
     "text": [
      "Optimization terminated successfully.\n",
      "         Current function value: 3.922876\n",
      "         Iterations: 257\n",
      "         Function evaluations: 261\n",
      "         Gradient evaluations: 261\n",
      "Fraction of correct choice predictions\n",
      "0.022727272727272728\n"
     ]
    },
    {
     "name": "stderr",
     "output_type": "stream",
     "text": [
      "/home/bensonouyang/miniconda3/envs/draft/lib/python3.10/site-packages/statsmodels/base/model.py:592: HessianInversionWarning: Inverting hessian failed, no bse or cov_params available\n",
      "  warnings.warn('Inverting hessian failed, no bse or cov_params '\n"
     ]
    }
   ],
   "source": [
    "# https://www.statsmodels.org/dev/examples/notebooks/generated/ordinal_regression.html#examples-notebooks-generated-ordinal-regression--page-root\n",
    "# https://analyticsindiamag.com/a-complete-tutorial-on-ordinal-regression-in-python/\n",
    "\n",
    "mod_prob = OrderedModel(y_train, X_train, distr = 'logit', hasconst= False)\n",
    "res_prob = mod_prob.fit(method = 'bfgs')\n",
    "pred = res_prob.model.predict(res_prob.params, exog = np.array(X_test))\n",
    "pred_choice = pred.argmax(1)\n",
    "print('Fraction of correct choice predictions')\n",
    "print((np.asarray(y_test) == pred_choice).mean())"
   ]
  },
  {
   "cell_type": "code",
   "execution_count": 12,
   "metadata": {},
   "outputs": [
    {
     "name": "stdout",
     "output_type": "stream",
     "text": [
      "Optimization terminated successfully.\n",
      "         Current function value: 0.628708\n",
      "         Iterations: 166\n",
      "         Function evaluations: 170\n",
      "         Gradient evaluations: 170\n",
      "Fraction of correct choice predictions\n",
      "0.29545454545454547\n"
     ]
    }
   ],
   "source": [
    "mod_prob1 = OrderedModel(y_train1, X_train1, distr = 'logit', hasconst= False)\n",
    "res_prob1 = mod_prob1.fit(method = 'bfgs')\n",
    "pred1 = res_prob1.model.predict(res_prob1.params, exog = np.array(X_test1))\n",
    "pred_choice1 = pred1.argmax(1)\n",
    "print('Fraction of correct choice predictions')\n",
    "print((np.asarray(y_test1) == pred_choice1).mean())"
   ]
  },
  {
   "cell_type": "code",
   "execution_count": 13,
   "metadata": {},
   "outputs": [
    {
     "name": "stdout",
     "output_type": "stream",
     "text": [
      "Optimization terminated successfully.\n",
      "         Current function value: 0.621412\n",
      "         Iterations: 162\n",
      "         Function evaluations: 166\n",
      "         Gradient evaluations: 166\n",
      "Fraction of correct choice predictions\n",
      "0.25\n"
     ]
    }
   ],
   "source": [
    "mod_prob2 = OrderedModel(y_train2, X_train2, distr = 'logit', hasconst= False)\n",
    "res_prob2 = mod_prob2.fit(method = 'bfgs')\n",
    "pred2 = res_prob2.model.predict(res_prob2.params, exog = np.array(X_test2))\n",
    "pred_choice2 = pred2.argmax(1)\n",
    "print('Fraction of correct choice predictions')\n",
    "print((np.asarray(y_test2) == pred_choice2).mean())"
   ]
  },
  {
   "cell_type": "code",
   "execution_count": 14,
   "metadata": {},
   "outputs": [],
   "source": [
    "sigX = X[res_prob1.pvalues[res_prob1.pvalues < 0.5].index]"
   ]
  },
  {
   "cell_type": "code",
   "execution_count": 15,
   "metadata": {},
   "outputs": [],
   "source": [
    "X_train3, X_test3, y_train3, y_test3 = train_test_split(sigX,newy, test_size = 0.25, random_state = 42)"
   ]
  },
  {
   "cell_type": "code",
   "execution_count": 16,
   "metadata": {},
   "outputs": [
    {
     "name": "stdout",
     "output_type": "stream",
     "text": [
      "Optimization terminated successfully.\n",
      "         Current function value: 0.647643\n",
      "         Iterations: 35\n",
      "         Function evaluations: 38\n",
      "         Gradient evaluations: 38\n",
      "Fraction of correct choice predictions\n",
      "0.20454545454545456\n"
     ]
    }
   ],
   "source": [
    "mod_prob3 = OrderedModel(y_train3, X_train3, distr = 'logit', hasconst= False)\n",
    "res_prob3 = mod_prob3.fit(method = 'bfgs')\n",
    "pred3 = res_prob3.model.predict(res_prob3.params, exog = np.array(X_test3))\n",
    "pred_choice3 = pred3.argmax(1)\n",
    "print('Fraction of correct choice predictions')\n",
    "print((np.asarray(y_test3) == pred_choice3).mean())"
   ]
  },
  {
   "cell_type": "markdown",
   "metadata": {},
   "source": [
    "# Results\n",
    "\n",
    "With y as draft picks, and x with 0 to 24: fraction of correct choice predictions is 0.02, add 43 and 44: model fails to find the maximum of loglikelihood function\n",
    "\n",
    "With y as rounds, and x with 0 to 24: fraction of correct choice predictions is 0.29. Fails to converge if add columns 43 and 44. \n",
    "\n",
    "y as rounds, x 0 to 21, and EFF: fraction = 0.25. if 0 to 24 then fails to converge.\n",
    "\n",
    "y as rounds, x are the significant features from the second model result summary. fraction correct 0.2"
   ]
  },
  {
   "cell_type": "code",
   "execution_count": 43,
   "metadata": {},
   "outputs": [
    {
     "data": {
      "text/html": [
       "<table class=\"simpletable\">\n",
       "<caption>OrderedModel Results</caption>\n",
       "<tr>\n",
       "  <th>Dep. Variable:</th>             <td>y</td>         <th>  Log-Likelihood:    </th> <td> -82.989</td>\n",
       "</tr>\n",
       "<tr>\n",
       "  <th>Model:</th>               <td>OrderedModel</td>    <th>  AIC:               </th> <td>   216.0</td>\n",
       "</tr>\n",
       "<tr>\n",
       "  <th>Method:</th>           <td>Maximum Likelihood</td> <th>  BIC:               </th> <td>   288.0</td>\n",
       "</tr>\n",
       "<tr>\n",
       "  <th>Date:</th>              <td>Thu, 24 Nov 2022</td>  <th>                     </th>     <td> </td>   \n",
       "</tr>\n",
       "<tr>\n",
       "  <th>Time:</th>                  <td>17:43:23</td>      <th>                     </th>     <td> </td>   \n",
       "</tr>\n",
       "<tr>\n",
       "  <th>No. Observations:</th>       <td>   132</td>       <th>                     </th>     <td> </td>   \n",
       "</tr>\n",
       "<tr>\n",
       "  <th>Df Residuals:</th>           <td>   107</td>       <th>                     </th>     <td> </td>   \n",
       "</tr>\n",
       "<tr>\n",
       "  <th>Df Model:</th>               <td>    25</td>       <th>                     </th>     <td> </td>   \n",
       "</tr>\n",
       "</table>\n",
       "<table class=\"simpletable\">\n",
       "<tr>\n",
       "          <td></td>            <th>coef</th>     <th>std err</th>      <th>z</th>      <th>P>|z|</th>  <th>[0.025</th>    <th>0.975]</th>  \n",
       "</tr>\n",
       "<tr>\n",
       "  <th>GP</th>               <td>   -0.0138</td> <td>    0.028</td> <td>   -0.485</td> <td> 0.628</td> <td>   -0.070</td> <td>    0.042</td>\n",
       "</tr>\n",
       "<tr>\n",
       "  <th>GS</th>               <td>    0.0352</td> <td>    0.029</td> <td>    1.205</td> <td> 0.228</td> <td>   -0.022</td> <td>    0.093</td>\n",
       "</tr>\n",
       "<tr>\n",
       "  <th>MIN</th>              <td>   -0.0261</td> <td>    0.054</td> <td>   -0.485</td> <td> 0.628</td> <td>   -0.131</td> <td>    0.079</td>\n",
       "</tr>\n",
       "<tr>\n",
       "  <th>PTS</th>              <td>    3.4127</td> <td>    4.779</td> <td>    0.714</td> <td> 0.475</td> <td>   -5.954</td> <td>   12.779</td>\n",
       "</tr>\n",
       "<tr>\n",
       "  <th>FGM</th>              <td>   -8.1153</td> <td>    9.498</td> <td>   -0.854</td> <td> 0.393</td> <td>  -26.730</td> <td>   10.500</td>\n",
       "</tr>\n",
       "<tr>\n",
       "  <th>FGA</th>              <td>    0.6253</td> <td>    0.533</td> <td>    1.174</td> <td> 0.240</td> <td>   -0.419</td> <td>    1.669</td>\n",
       "</tr>\n",
       "<tr>\n",
       "  <th>FG%</th>              <td>    0.5499</td> <td>    8.353</td> <td>    0.066</td> <td> 0.948</td> <td>  -15.821</td> <td>   16.921</td>\n",
       "</tr>\n",
       "<tr>\n",
       "  <th>3PM</th>              <td>   -2.0548</td> <td>    4.839</td> <td>   -0.425</td> <td> 0.671</td> <td>  -11.539</td> <td>    7.429</td>\n",
       "</tr>\n",
       "<tr>\n",
       "  <th>3PA</th>              <td>   -0.9212</td> <td>    0.568</td> <td>   -1.621</td> <td> 0.105</td> <td>   -2.035</td> <td>    0.193</td>\n",
       "</tr>\n",
       "<tr>\n",
       "  <th>3P%</th>              <td>    1.3413</td> <td>    2.005</td> <td>    0.669</td> <td> 0.504</td> <td>   -2.589</td> <td>    5.272</td>\n",
       "</tr>\n",
       "<tr>\n",
       "  <th>FTM</th>              <td>   -3.0751</td> <td>    5.079</td> <td>   -0.605</td> <td> 0.545</td> <td>  -13.030</td> <td>    6.880</td>\n",
       "</tr>\n",
       "<tr>\n",
       "  <th>FTA</th>              <td>   -0.0914</td> <td>    1.443</td> <td>   -0.063</td> <td> 0.949</td> <td>   -2.920</td> <td>    2.737</td>\n",
       "</tr>\n",
       "<tr>\n",
       "  <th>FT%</th>              <td>    0.7005</td> <td>    6.028</td> <td>    0.116</td> <td> 0.907</td> <td>  -11.114</td> <td>   12.515</td>\n",
       "</tr>\n",
       "<tr>\n",
       "  <th>OFF</th>              <td>   -9.6771</td> <td>   39.143</td> <td>   -0.247</td> <td> 0.805</td> <td>  -86.396</td> <td>   67.042</td>\n",
       "</tr>\n",
       "<tr>\n",
       "  <th>DEF</th>              <td>   -9.4557</td> <td>   39.126</td> <td>   -0.242</td> <td> 0.809</td> <td>  -86.141</td> <td>   67.229</td>\n",
       "</tr>\n",
       "<tr>\n",
       "  <th>TRB</th>              <td>    9.7288</td> <td>   39.117</td> <td>    0.249</td> <td> 0.804</td> <td>  -66.938</td> <td>   86.396</td>\n",
       "</tr>\n",
       "<tr>\n",
       "  <th>AST</th>              <td>    0.1708</td> <td>    0.201</td> <td>    0.851</td> <td> 0.395</td> <td>   -0.222</td> <td>    0.564</td>\n",
       "</tr>\n",
       "<tr>\n",
       "  <th>STL</th>              <td>   -0.8781</td> <td>    0.618</td> <td>   -1.421</td> <td> 0.155</td> <td>   -2.089</td> <td>    0.333</td>\n",
       "</tr>\n",
       "<tr>\n",
       "  <th>BLK</th>              <td>   -0.3610</td> <td>    0.478</td> <td>   -0.755</td> <td> 0.450</td> <td>   -1.298</td> <td>    0.576</td>\n",
       "</tr>\n",
       "<tr>\n",
       "  <th>TOV</th>              <td>   -0.1486</td> <td>    0.482</td> <td>   -0.308</td> <td> 0.758</td> <td>   -1.093</td> <td>    0.796</td>\n",
       "</tr>\n",
       "<tr>\n",
       "  <th>PF</th>               <td>   -0.2826</td> <td>    0.477</td> <td>   -0.593</td> <td> 0.553</td> <td>   -1.217</td> <td>    0.652</td>\n",
       "</tr>\n",
       "<tr>\n",
       "  <th>PreType_College</th>  <td>    0.3849</td> <td>  208.956</td> <td>    0.002</td> <td> 0.999</td> <td> -409.162</td> <td>  409.932</td>\n",
       "</tr>\n",
       "<tr>\n",
       "  <th>PreType_G League</th> <td>   -1.4391</td> <td>  208.983</td> <td>   -0.007</td> <td> 0.995</td> <td> -411.039</td> <td>  408.161</td>\n",
       "</tr>\n",
       "<tr>\n",
       "  <th>PreType_Overseas</th> <td>    0.9225</td> <td>  208.957</td> <td>    0.004</td> <td> 0.996</td> <td> -408.626</td> <td>  410.471</td>\n",
       "</tr>\n",
       "<tr>\n",
       "  <th>1/2</th>              <td>    0.1924</td> <td>  208.989</td> <td>    0.001</td> <td> 0.999</td> <td> -409.418</td> <td>  409.802</td>\n",
       "</tr>\n",
       "</table>"
      ],
      "text/plain": [
       "<class 'statsmodels.iolib.summary.Summary'>\n",
       "\"\"\"\n",
       "                             OrderedModel Results                             \n",
       "==============================================================================\n",
       "Dep. Variable:                      y   Log-Likelihood:                -82.989\n",
       "Model:                   OrderedModel   AIC:                             216.0\n",
       "Method:            Maximum Likelihood   BIC:                             288.0\n",
       "Date:                Thu, 24 Nov 2022                                         \n",
       "Time:                        17:43:23                                         \n",
       "No. Observations:                 132                                         \n",
       "Df Residuals:                     107                                         \n",
       "Df Model:                          25                                         \n",
       "====================================================================================\n",
       "                       coef    std err          z      P>|z|      [0.025      0.975]\n",
       "------------------------------------------------------------------------------------\n",
       "GP                  -0.0138      0.028     -0.485      0.628      -0.070       0.042\n",
       "GS                   0.0352      0.029      1.205      0.228      -0.022       0.093\n",
       "MIN                 -0.0261      0.054     -0.485      0.628      -0.131       0.079\n",
       "PTS                  3.4127      4.779      0.714      0.475      -5.954      12.779\n",
       "FGM                 -8.1153      9.498     -0.854      0.393     -26.730      10.500\n",
       "FGA                  0.6253      0.533      1.174      0.240      -0.419       1.669\n",
       "FG%                  0.5499      8.353      0.066      0.948     -15.821      16.921\n",
       "3PM                 -2.0548      4.839     -0.425      0.671     -11.539       7.429\n",
       "3PA                 -0.9212      0.568     -1.621      0.105      -2.035       0.193\n",
       "3P%                  1.3413      2.005      0.669      0.504      -2.589       5.272\n",
       "FTM                 -3.0751      5.079     -0.605      0.545     -13.030       6.880\n",
       "FTA                 -0.0914      1.443     -0.063      0.949      -2.920       2.737\n",
       "FT%                  0.7005      6.028      0.116      0.907     -11.114      12.515\n",
       "OFF                 -9.6771     39.143     -0.247      0.805     -86.396      67.042\n",
       "DEF                 -9.4557     39.126     -0.242      0.809     -86.141      67.229\n",
       "TRB                  9.7288     39.117      0.249      0.804     -66.938      86.396\n",
       "AST                  0.1708      0.201      0.851      0.395      -0.222       0.564\n",
       "STL                 -0.8781      0.618     -1.421      0.155      -2.089       0.333\n",
       "BLK                 -0.3610      0.478     -0.755      0.450      -1.298       0.576\n",
       "TOV                 -0.1486      0.482     -0.308      0.758      -1.093       0.796\n",
       "PF                  -0.2826      0.477     -0.593      0.553      -1.217       0.652\n",
       "PreType_College      0.3849    208.956      0.002      0.999    -409.162     409.932\n",
       "PreType_G League    -1.4391    208.983     -0.007      0.995    -411.039     408.161\n",
       "PreType_Overseas     0.9225    208.957      0.004      0.996    -408.626     410.471\n",
       "1/2                  0.1924    208.989      0.001      0.999    -409.418     409.802\n",
       "====================================================================================\n",
       "\"\"\""
      ]
     },
     "execution_count": 43,
     "metadata": {},
     "output_type": "execute_result"
    }
   ],
   "source": [
    "res_prob1.summary()"
   ]
  },
  {
   "cell_type": "code",
   "execution_count": null,
   "metadata": {},
   "outputs": [],
   "source": []
  }
 ],
 "metadata": {
  "kernelspec": {
   "display_name": "Python 3 (ipykernel)",
   "language": "python",
   "name": "python3"
  },
  "language_info": {
   "codemirror_mode": {
    "name": "ipython",
    "version": 3
   },
   "file_extension": ".py",
   "mimetype": "text/x-python",
   "name": "python",
   "nbconvert_exporter": "python",
   "pygments_lexer": "ipython3",
   "version": "3.10.4"
  },
  "vscode": {
   "interpreter": {
    "hash": "916dbcbb3f70747c44a77c7bcd40155683ae19c65e1c03b4aa3499c5328201f1"
   }
  }
 },
 "nbformat": 4,
 "nbformat_minor": 4
}
