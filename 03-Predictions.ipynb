{
 "cells": [
  {
   "cell_type": "markdown",
   "metadata": {},
   "source": [
    "# Importing Libraries"
   ]
  },
  {
   "cell_type": "code",
   "execution_count": 1,
   "metadata": {},
   "outputs": [],
   "source": [
    "import pandas as pd\n",
    "import numpy as np\n",
    "from sklearn.model_selection import train_test_split\n",
    "from statsmodels.miscmodels.ordinal_model import OrderedModel"
   ]
  },
  {
   "cell_type": "markdown",
   "metadata": {},
   "source": [
    "# Setting up model dataframe"
   ]
  },
  {
   "cell_type": "code",
   "execution_count": 2,
   "metadata": {},
   "outputs": [],
   "source": [
    "df2020 = pd.read_csv(\"data/df2020.csv\")\n",
    "df2021 = pd.read_csv(\"data/df2021.csv\")\n",
    "df2022 = pd.read_csv(\"data/df2022.csv\")"
   ]
  },
  {
   "cell_type": "code",
   "execution_count": 3,
   "metadata": {},
   "outputs": [],
   "source": [
    "df2020.drop(columns = df2020.columns[0], axis = 1, inplace = True)\n",
    "df2021.drop(columns = df2021.columns[0], axis = 1, inplace = True)\n",
    "df2022.drop(columns = df2022.columns[0], axis = 1, inplace = True)"
   ]
  },
  {
   "cell_type": "code",
   "execution_count": 4,
   "metadata": {},
   "outputs": [],
   "source": [
    "df2020['Year'] = 2020\n",
    "df2021['Year'] = 2021\n",
    "df2022['Year'] = 2022"
   ]
  },
  {
   "cell_type": "code",
   "execution_count": 5,
   "metadata": {},
   "outputs": [],
   "source": [
    "df = pd.concat([df2020,df2021,df2022])"
   ]
  },
  {
   "cell_type": "code",
   "execution_count": 6,
   "metadata": {},
   "outputs": [],
   "source": [
    "df.to_csv('data/combineddata.csv', index = False)"
   ]
  },
  {
   "cell_type": "code",
   "execution_count": 7,
   "metadata": {},
   "outputs": [
    {
     "data": {
      "text/plain": [
       "Index(['Player', 'Round', 'DraftNumber', 'PreTeam', 'urlsummary', 'PreType',\n",
       "       'GP', 'GS', 'MIN', 'PTS', 'FGM', 'FGA', 'FG%', '3PM', '3PA', '3P%',\n",
       "       'FTM', 'FTA', 'FT%', 'OFF', 'DEF', 'TRB', 'AST', 'STL', 'BLK', 'TOV',\n",
       "       'PF', 'Position', 'Year'],\n",
       "      dtype='object')"
      ]
     },
     "execution_count": 7,
     "metadata": {},
     "output_type": "execute_result"
    }
   ],
   "source": [
    "df.columns"
   ]
  },
  {
   "cell_type": "code",
   "execution_count": 8,
   "metadata": {},
   "outputs": [],
   "source": [
    "df = pd.read_csv('data/combineddata.csv')"
   ]
  },
  {
   "cell_type": "code",
   "execution_count": 19,
   "metadata": {},
   "outputs": [],
   "source": [
    "modeldf = df.drop(columns = ['Player','Round','PreTeam','urlsummary'], axis = 1)"
   ]
  },
  {
   "cell_type": "code",
   "execution_count": 20,
   "metadata": {},
   "outputs": [],
   "source": [
    "modeldf.reset_index(inplace = True)"
   ]
  },
  {
   "cell_type": "code",
   "execution_count": 21,
   "metadata": {},
   "outputs": [],
   "source": [
    "modeldf = modeldf.drop(modeldf[modeldf['GP']==0].index)"
   ]
  },
  {
   "cell_type": "code",
   "execution_count": 22,
   "metadata": {},
   "outputs": [],
   "source": [
    "modeldf.reset_index(inplace = True)"
   ]
  },
  {
   "cell_type": "code",
   "execution_count": 23,
   "metadata": {},
   "outputs": [],
   "source": [
    "modeldf.drop(columns = 'index', axis = 1, inplace = True)"
   ]
  },
  {
   "cell_type": "code",
   "execution_count": 24,
   "metadata": {},
   "outputs": [],
   "source": [
    "modeldf.drop(columns = 'Year', axis = 1, inplace = True)"
   ]
  },
  {
   "cell_type": "code",
   "execution_count": 27,
   "metadata": {},
   "outputs": [],
   "source": [
    "modeldf.drop(columns = 'level_0', axis = 1, inplace = True)"
   ]
  },
  {
   "cell_type": "code",
   "execution_count": 29,
   "metadata": {},
   "outputs": [],
   "source": [
    "modeldf.to_csv('data/modeldf.csv', index = False)"
   ]
  },
  {
   "cell_type": "markdown",
   "metadata": {},
   "source": [
    "# Pre-processing"
   ]
  },
  {
   "cell_type": "code",
   "execution_count": 31,
   "metadata": {},
   "outputs": [],
   "source": [
    "modeldf = pd.read_csv('data/modeldf.csv')"
   ]
  },
  {
   "cell_type": "code",
   "execution_count": 33,
   "metadata": {},
   "outputs": [],
   "source": [
    "pos2 = []\n",
    "for i in range(len(modeldf)):\n",
    "    if modeldf['Position'][i] == 'G':\n",
    "        pos2.append('PG')\n",
    "    elif modeldf['Position'][i] == 'F':\n",
    "        pos2.append('SF')\n",
    "    elif modeldf['Position'][i] == 'FC':\n",
    "        pos2.append('PF')\n",
    "    elif modeldf['Position'][i] == 'GF':\n",
    "        pos2.append('SG')\n",
    "    else:\n",
    "        pos2.append(modeldf['Position'][i])\n"
   ]
  },
  {
   "cell_type": "code",
   "execution_count": 34,
   "metadata": {},
   "outputs": [],
   "source": [
    "pos3 = []\n",
    "for j in range(len(modeldf)):\n",
    "    if modeldf['Position'][j] == 'G':\n",
    "        pos3.append('SG')\n",
    "    elif modeldf['Position'][j] == 'F':\n",
    "        pos3.append('PF')\n",
    "    elif modeldf['Position'][j] == 'FC':\n",
    "        pos3.append('C')\n",
    "    elif modeldf['Position'][j] == 'GF':\n",
    "        pos3.append('SF')\n",
    "    else:\n",
    "        pos3.append(modeldf['Position'][j])"
   ]
  },
  {
   "cell_type": "code",
   "execution_count": 35,
   "metadata": {},
   "outputs": [],
   "source": [
    "modeldf['Position2'] = pos2\n",
    "modeldf['Position3'] = pos3"
   ]
  },
  {
   "cell_type": "code",
   "execution_count": 36,
   "metadata": {},
   "outputs": [],
   "source": [
    "pos4 = []\n",
    "for k in range(len(modeldf)):\n",
    "    if modeldf['Position2'][k] in ['PG', 'SG']:\n",
    "        pos4.append('Backcourt')\n",
    "    else:\n",
    "        pos4.append('Frontcourt')"
   ]
  },
  {
   "cell_type": "code",
   "execution_count": 37,
   "metadata": {},
   "outputs": [],
   "source": [
    "modeldf['Position4'] = pos4"
   ]
  },
  {
   "cell_type": "code",
   "execution_count": 38,
   "metadata": {},
   "outputs": [],
   "source": [
    "categorical_columns = ['PreType', 'Position', 'Position2', 'Position3', 'Position4']"
   ]
  },
  {
   "cell_type": "code",
   "execution_count": 39,
   "metadata": {},
   "outputs": [],
   "source": [
    "for col in categorical_columns:\n",
    "    col_ohe = pd.get_dummies(modeldf[col], prefix = col)\n",
    "    modeldf = pd.concat((modeldf,col_ohe), axis = 1).drop(col, axis = 1)"
   ]
  },
  {
   "cell_type": "code",
   "execution_count": 41,
   "metadata": {},
   "outputs": [],
   "source": [
    "modeldf.to_csv('data/modeldfcategorical.csv',index = False)"
   ]
  },
  {
   "cell_type": "markdown",
   "metadata": {},
   "source": [
    "# Training Ordinal Regression Model"
   ]
  },
  {
   "cell_type": "code",
   "execution_count": 2,
   "metadata": {},
   "outputs": [],
   "source": [
    "modeldf = pd.read_csv('data/modeldfcategorical.csv')"
   ]
  },
  {
   "cell_type": "code",
   "execution_count": 3,
   "metadata": {},
   "outputs": [],
   "source": [
    "#y = np.array(modeldf['DraftNumber'])\n",
    "#X = np.array(modeldf.drop(columns = ['DraftNumber'], axis = 1))\n",
    "\n",
    "y = modeldf['DraftNumber']\n",
    "X = modeldf.drop(columns = ['DraftNumber'], axis = 1)"
   ]
  },
  {
   "cell_type": "code",
   "execution_count": 4,
   "metadata": {},
   "outputs": [],
   "source": [
    "newy = pd.Series([1 if x<=30 else 2 for x in modeldf['DraftNumber']])"
   ]
  },
  {
   "cell_type": "code",
   "execution_count": 5,
   "metadata": {},
   "outputs": [],
   "source": [
    "eff = (X['PTS']+ X['TRB'] + X['AST'] + X['STL'] + X['BLK'] - (X['FGA']-X['FGM']) - (X['FTA']-X['FTM']))/X['GP']"
   ]
  },
  {
   "cell_type": "code",
   "execution_count": 6,
   "metadata": {},
   "outputs": [],
   "source": [
    "eff_df = pd.DataFrame({'EFF':eff})"
   ]
  },
  {
   "cell_type": "code",
   "execution_count": 11,
   "metadata": {},
   "outputs": [],
   "source": [
    "newx = X.join(eff_df)"
   ]
  },
  {
   "cell_type": "code",
   "execution_count": 8,
   "metadata": {},
   "outputs": [],
   "source": [
    "X_train, X_test, y_train, y_test = train_test_split(X.iloc[:,0:24],y, test_size = 0.25, random_state = 42)"
   ]
  },
  {
   "cell_type": "code",
   "execution_count": 9,
   "metadata": {},
   "outputs": [],
   "source": [
    "X_train1, X_test1, y_train1, y_test1 = train_test_split(X.iloc[:,0:24],newy, test_size = 0.25, random_state = 42)"
   ]
  },
  {
   "cell_type": "code",
   "execution_count": 26,
   "metadata": {},
   "outputs": [],
   "source": [
    "X_train2, X_test2, y_train2, y_test2 = train_test_split(newx.iloc[:,0:21].join(newx.iloc[:,45:]),newy, test_size = 0.25, random_state = 42)"
   ]
  },
  {
   "cell_type": "code",
   "execution_count": null,
   "metadata": {},
   "outputs": [
    {
     "name": "stdout",
     "output_type": "stream",
     "text": [
      "Optimization terminated successfully.\n",
      "         Current function value: 3.922876\n",
      "         Iterations: 257\n",
      "         Function evaluations: 261\n",
      "         Gradient evaluations: 261\n",
      "Fraction of correct choice predictions\n",
      "0.022727272727272728\n"
     ]
    }
   ],
   "source": [
    "# https://www.statsmodels.org/dev/examples/notebooks/generated/ordinal_regression.html#examples-notebooks-generated-ordinal-regression--page-root\n",
    "# https://analyticsindiamag.com/a-complete-tutorial-on-ordinal-regression-in-python/\n",
    "\n",
    "mod_prob = OrderedModel(y_train, X_train, distr = 'logit', hasconst= False)\n",
    "res_prob = mod_prob.fit(method = 'bfgs')\n",
    "pred = res_prob.model.predict(res_prob.params, exog = np.array(X_test))\n",
    "pred_choice = pred.argmax(1)\n",
    "print('Fraction of correct choice predictions')\n",
    "print((np.asarray(y_test) == pred_choice).mean())"
   ]
  },
  {
   "cell_type": "code",
   "execution_count": 14,
   "metadata": {},
   "outputs": [
    {
     "name": "stdout",
     "output_type": "stream",
     "text": [
      "Optimization terminated successfully.\n",
      "         Current function value: 0.628708\n",
      "         Iterations: 166\n",
      "         Function evaluations: 170\n",
      "         Gradient evaluations: 170\n",
      "Fraction of correct choice predictions\n",
      "0.29545454545454547\n"
     ]
    }
   ],
   "source": [
    "mod_prob1 = OrderedModel(y_train1, X_train1, distr = 'logit', hasconst= False)\n",
    "res_prob1 = mod_prob1.fit(method = 'bfgs')\n",
    "pred1 = res_prob1.model.predict(res_prob1.params, exog = np.array(X_test1))\n",
    "pred_choice1 = pred1.argmax(1)\n",
    "print('Fraction of correct choice predictions')\n",
    "print((np.asarray(y_test1) == pred_choice1).mean())"
   ]
  },
  {
   "cell_type": "code",
   "execution_count": 27,
   "metadata": {},
   "outputs": [
    {
     "name": "stdout",
     "output_type": "stream",
     "text": [
      "Optimization terminated successfully.\n",
      "         Current function value: 0.621412\n",
      "         Iterations: 162\n",
      "         Function evaluations: 166\n",
      "         Gradient evaluations: 166\n",
      "Fraction of correct choice predictions\n",
      "0.25\n"
     ]
    }
   ],
   "source": [
    "mod_prob2 = OrderedModel(y_train2, X_train2, distr = 'logit', hasconst= False)\n",
    "res_prob2 = mod_prob2.fit(method = 'bfgs')\n",
    "pred2 = res_prob2.model.predict(res_prob2.params, exog = np.array(X_test2))\n",
    "pred_choice2 = pred2.argmax(1)\n",
    "print('Fraction of correct choice predictions')\n",
    "print((np.asarray(y_test2) == pred_choice2).mean())"
   ]
  },
  {
   "cell_type": "code",
   "execution_count": 19,
   "metadata": {},
   "outputs": [],
   "source": [
    "sigX = X[res_prob1.pvalues[res_prob1.pvalues < 0.5].index]"
   ]
  },
  {
   "cell_type": "code",
   "execution_count": 22,
   "metadata": {},
   "outputs": [],
   "source": [
    "X_train3, X_test3, y_train3, y_test3 = train_test_split(sigX,newy, test_size = 0.25, random_state = 42)"
   ]
  },
  {
   "cell_type": "code",
   "execution_count": 23,
   "metadata": {},
   "outputs": [
    {
     "name": "stdout",
     "output_type": "stream",
     "text": [
      "Optimization terminated successfully.\n",
      "         Current function value: 0.647643\n",
      "         Iterations: 35\n",
      "         Function evaluations: 38\n",
      "         Gradient evaluations: 38\n",
      "Fraction of correct choice predictions\n",
      "0.20454545454545456\n"
     ]
    }
   ],
   "source": [
    "mod_prob3 = OrderedModel(y_train3, X_train3, distr = 'logit', hasconst= False)\n",
    "res_prob3 = mod_prob3.fit(method = 'bfgs')\n",
    "pred3 = res_prob3.model.predict(res_prob3.params, exog = np.array(X_test3))\n",
    "pred_choice3 = pred3.argmax(1)\n",
    "print('Fraction of correct choice predictions')\n",
    "print((np.asarray(y_test3) == pred_choice3).mean())"
   ]
  },
  {
   "cell_type": "markdown",
   "metadata": {},
   "source": [
    "# Results\n",
    "\n",
    "With y as draft picks, and x with 0 to 24: fraction of correct choice predictions is 0.02, add 43 and 44: model fails to find the maximum of loglikelihood function\n",
    "\n",
    "With y as rounds, and x with 0 to 24: fraction of correct choice predictions is 0.29. Fails to converge if add columns 43 and 44. \n",
    "\n",
    "y as rounds, x 0 to 21, and EFF: fraction = 0.25. if 0 to 24 then fails to converge.\n",
    "\n",
    "y as rounds, x are the significant features from the second model result summary. fraction correct 0.2"
   ]
  },
  {
   "cell_type": "code",
   "execution_count": 24,
   "metadata": {},
   "outputs": [
    {
     "data": {
      "text/html": [
       "<table class=\"simpletable\">\n",
       "<caption>OrderedModel Results</caption>\n",
       "<tr>\n",
       "  <th>Dep. Variable:</th>             <td>y</td>         <th>  Log-Likelihood:    </th> <td> -82.989</td>\n",
       "</tr>\n",
       "<tr>\n",
       "  <th>Model:</th>               <td>OrderedModel</td>    <th>  AIC:               </th> <td>   216.0</td>\n",
       "</tr>\n",
       "<tr>\n",
       "  <th>Method:</th>           <td>Maximum Likelihood</td> <th>  BIC:               </th> <td>   288.0</td>\n",
       "</tr>\n",
       "<tr>\n",
       "  <th>Date:</th>              <td>Wed, 09 Nov 2022</td>  <th>                     </th>     <td> </td>   \n",
       "</tr>\n",
       "<tr>\n",
       "  <th>Time:</th>                  <td>17:01:07</td>      <th>                     </th>     <td> </td>   \n",
       "</tr>\n",
       "<tr>\n",
       "  <th>No. Observations:</th>       <td>   132</td>       <th>                     </th>     <td> </td>   \n",
       "</tr>\n",
       "<tr>\n",
       "  <th>Df Residuals:</th>           <td>   107</td>       <th>                     </th>     <td> </td>   \n",
       "</tr>\n",
       "<tr>\n",
       "  <th>Df Model:</th>               <td>    25</td>       <th>                     </th>     <td> </td>   \n",
       "</tr>\n",
       "</table>\n",
       "<table class=\"simpletable\">\n",
       "<tr>\n",
       "          <td></td>            <th>coef</th>     <th>std err</th>      <th>z</th>      <th>P>|z|</th>  <th>[0.025</th>    <th>0.975]</th>  \n",
       "</tr>\n",
       "<tr>\n",
       "  <th>GP</th>               <td>   -0.0138</td> <td>    0.028</td> <td>   -0.485</td> <td> 0.628</td> <td>   -0.070</td> <td>    0.042</td>\n",
       "</tr>\n",
       "<tr>\n",
       "  <th>GS</th>               <td>    0.0352</td> <td>    0.029</td> <td>    1.205</td> <td> 0.228</td> <td>   -0.022</td> <td>    0.093</td>\n",
       "</tr>\n",
       "<tr>\n",
       "  <th>MIN</th>              <td>   -0.0261</td> <td>    0.054</td> <td>   -0.485</td> <td> 0.628</td> <td>   -0.131</td> <td>    0.079</td>\n",
       "</tr>\n",
       "<tr>\n",
       "  <th>PTS</th>              <td>    3.4127</td> <td>    4.779</td> <td>    0.714</td> <td> 0.475</td> <td>   -5.954</td> <td>   12.779</td>\n",
       "</tr>\n",
       "<tr>\n",
       "  <th>FGM</th>              <td>   -8.1153</td> <td>    9.498</td> <td>   -0.854</td> <td> 0.393</td> <td>  -26.730</td> <td>   10.499</td>\n",
       "</tr>\n",
       "<tr>\n",
       "  <th>FGA</th>              <td>    0.6253</td> <td>    0.533</td> <td>    1.174</td> <td> 0.240</td> <td>   -0.419</td> <td>    1.669</td>\n",
       "</tr>\n",
       "<tr>\n",
       "  <th>FG%</th>              <td>    0.5499</td> <td>    8.352</td> <td>    0.066</td> <td> 0.948</td> <td>  -15.820</td> <td>   16.920</td>\n",
       "</tr>\n",
       "<tr>\n",
       "  <th>3PM</th>              <td>   -2.0548</td> <td>    4.839</td> <td>   -0.425</td> <td> 0.671</td> <td>  -11.539</td> <td>    7.429</td>\n",
       "</tr>\n",
       "<tr>\n",
       "  <th>3PA</th>              <td>   -0.9212</td> <td>    0.568</td> <td>   -1.621</td> <td> 0.105</td> <td>   -2.035</td> <td>    0.193</td>\n",
       "</tr>\n",
       "<tr>\n",
       "  <th>3P%</th>              <td>    1.3413</td> <td>    2.005</td> <td>    0.669</td> <td> 0.504</td> <td>   -2.589</td> <td>    5.272</td>\n",
       "</tr>\n",
       "<tr>\n",
       "  <th>FTM</th>              <td>   -3.0751</td> <td>    5.079</td> <td>   -0.605</td> <td> 0.545</td> <td>  -13.030</td> <td>    6.880</td>\n",
       "</tr>\n",
       "<tr>\n",
       "  <th>FTA</th>              <td>   -0.0914</td> <td>    1.443</td> <td>   -0.063</td> <td> 0.949</td> <td>   -2.919</td> <td>    2.737</td>\n",
       "</tr>\n",
       "<tr>\n",
       "  <th>FT%</th>              <td>    0.7005</td> <td>    6.027</td> <td>    0.116</td> <td> 0.907</td> <td>  -11.112</td> <td>   12.513</td>\n",
       "</tr>\n",
       "<tr>\n",
       "  <th>OFF</th>              <td>   -9.6771</td> <td>   39.144</td> <td>   -0.247</td> <td> 0.805</td> <td>  -86.399</td> <td>   67.044</td>\n",
       "</tr>\n",
       "<tr>\n",
       "  <th>DEF</th>              <td>   -9.4557</td> <td>   39.127</td> <td>   -0.242</td> <td> 0.809</td> <td>  -86.143</td> <td>   67.232</td>\n",
       "</tr>\n",
       "<tr>\n",
       "  <th>TRB</th>              <td>    9.7288</td> <td>   39.118</td> <td>    0.249</td> <td> 0.804</td> <td>  -66.941</td> <td>   86.399</td>\n",
       "</tr>\n",
       "<tr>\n",
       "  <th>AST</th>              <td>    0.1708</td> <td>    0.201</td> <td>    0.851</td> <td> 0.395</td> <td>   -0.222</td> <td>    0.564</td>\n",
       "</tr>\n",
       "<tr>\n",
       "  <th>STL</th>              <td>   -0.8781</td> <td>    0.618</td> <td>   -1.421</td> <td> 0.155</td> <td>   -2.089</td> <td>    0.333</td>\n",
       "</tr>\n",
       "<tr>\n",
       "  <th>BLK</th>              <td>   -0.3610</td> <td>    0.478</td> <td>   -0.755</td> <td> 0.450</td> <td>   -1.298</td> <td>    0.576</td>\n",
       "</tr>\n",
       "<tr>\n",
       "  <th>TOV</th>              <td>   -0.1486</td> <td>    0.482</td> <td>   -0.308</td> <td> 0.758</td> <td>   -1.093</td> <td>    0.796</td>\n",
       "</tr>\n",
       "<tr>\n",
       "  <th>PF</th>               <td>   -0.2826</td> <td>    0.477</td> <td>   -0.593</td> <td> 0.553</td> <td>   -1.217</td> <td>    0.652</td>\n",
       "</tr>\n",
       "<tr>\n",
       "  <th>PreType_College</th>  <td>    0.3849</td> <td>  215.358</td> <td>    0.002</td> <td> 0.999</td> <td> -421.709</td> <td>  422.479</td>\n",
       "</tr>\n",
       "<tr>\n",
       "  <th>PreType_G League</th> <td>   -1.4391</td> <td>  215.374</td> <td>   -0.007</td> <td> 0.995</td> <td> -423.565</td> <td>  420.687</td>\n",
       "</tr>\n",
       "<tr>\n",
       "  <th>PreType_Overseas</th> <td>    0.9225</td> <td>  215.357</td> <td>    0.004</td> <td> 0.997</td> <td> -421.170</td> <td>  423.015</td>\n",
       "</tr>\n",
       "<tr>\n",
       "  <th>1/2</th>              <td>    0.1924</td> <td>  215.316</td> <td>    0.001</td> <td> 0.999</td> <td> -421.820</td> <td>  422.204</td>\n",
       "</tr>\n",
       "</table>"
      ],
      "text/plain": [
       "<class 'statsmodels.iolib.summary.Summary'>\n",
       "\"\"\"\n",
       "                             OrderedModel Results                             \n",
       "==============================================================================\n",
       "Dep. Variable:                      y   Log-Likelihood:                -82.989\n",
       "Model:                   OrderedModel   AIC:                             216.0\n",
       "Method:            Maximum Likelihood   BIC:                             288.0\n",
       "Date:                Wed, 09 Nov 2022                                         \n",
       "Time:                        17:01:07                                         \n",
       "No. Observations:                 132                                         \n",
       "Df Residuals:                     107                                         \n",
       "Df Model:                          25                                         \n",
       "====================================================================================\n",
       "                       coef    std err          z      P>|z|      [0.025      0.975]\n",
       "------------------------------------------------------------------------------------\n",
       "GP                  -0.0138      0.028     -0.485      0.628      -0.070       0.042\n",
       "GS                   0.0352      0.029      1.205      0.228      -0.022       0.093\n",
       "MIN                 -0.0261      0.054     -0.485      0.628      -0.131       0.079\n",
       "PTS                  3.4127      4.779      0.714      0.475      -5.954      12.779\n",
       "FGM                 -8.1153      9.498     -0.854      0.393     -26.730      10.499\n",
       "FGA                  0.6253      0.533      1.174      0.240      -0.419       1.669\n",
       "FG%                  0.5499      8.352      0.066      0.948     -15.820      16.920\n",
       "3PM                 -2.0548      4.839     -0.425      0.671     -11.539       7.429\n",
       "3PA                 -0.9212      0.568     -1.621      0.105      -2.035       0.193\n",
       "3P%                  1.3413      2.005      0.669      0.504      -2.589       5.272\n",
       "FTM                 -3.0751      5.079     -0.605      0.545     -13.030       6.880\n",
       "FTA                 -0.0914      1.443     -0.063      0.949      -2.919       2.737\n",
       "FT%                  0.7005      6.027      0.116      0.907     -11.112      12.513\n",
       "OFF                 -9.6771     39.144     -0.247      0.805     -86.399      67.044\n",
       "DEF                 -9.4557     39.127     -0.242      0.809     -86.143      67.232\n",
       "TRB                  9.7288     39.118      0.249      0.804     -66.941      86.399\n",
       "AST                  0.1708      0.201      0.851      0.395      -0.222       0.564\n",
       "STL                 -0.8781      0.618     -1.421      0.155      -2.089       0.333\n",
       "BLK                 -0.3610      0.478     -0.755      0.450      -1.298       0.576\n",
       "TOV                 -0.1486      0.482     -0.308      0.758      -1.093       0.796\n",
       "PF                  -0.2826      0.477     -0.593      0.553      -1.217       0.652\n",
       "PreType_College      0.3849    215.358      0.002      0.999    -421.709     422.479\n",
       "PreType_G League    -1.4391    215.374     -0.007      0.995    -423.565     420.687\n",
       "PreType_Overseas     0.9225    215.357      0.004      0.997    -421.170     423.015\n",
       "1/2                  0.1924    215.316      0.001      0.999    -421.820     422.204\n",
       "====================================================================================\n",
       "\"\"\""
      ]
     },
     "execution_count": 24,
     "metadata": {},
     "output_type": "execute_result"
    }
   ],
   "source": [
    "res_prob1.summary()"
   ]
  },
  {
   "cell_type": "code",
   "execution_count": null,
   "metadata": {},
   "outputs": [],
   "source": []
  }
 ],
 "metadata": {
  "kernelspec": {
   "display_name": "Python 3 (ipykernel)",
   "language": "python",
   "name": "python3"
  },
  "language_info": {
   "codemirror_mode": {
    "name": "ipython",
    "version": 3
   },
   "file_extension": ".py",
   "mimetype": "text/x-python",
   "name": "python",
   "nbconvert_exporter": "python",
   "pygments_lexer": "ipython3",
   "version": "3.10.6"
  }
 },
 "nbformat": 4,
 "nbformat_minor": 4
}
