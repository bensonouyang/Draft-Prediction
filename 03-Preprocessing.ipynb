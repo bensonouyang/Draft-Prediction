{
 "cells": [
  {
   "cell_type": "markdown",
   "metadata": {},
   "source": [
    "# Importing Libraries"
   ]
  },
  {
   "cell_type": "code",
   "execution_count": 3,
   "metadata": {},
   "outputs": [],
   "source": [
    "import pandas as pd\n",
    "import numpy as np\n",
    "from sklearn.model_selection import train_test_split\n",
    "from statsmodels.miscmodels.ordinal_model import OrderedModel"
   ]
  },
  {
   "cell_type": "markdown",
   "metadata": {},
   "source": [
    "# Setting up model dataframe"
   ]
  },
  {
   "cell_type": "code",
   "execution_count": 4,
   "metadata": {},
   "outputs": [],
   "source": [
    "df2020 = pd.read_csv(\"data/df2020.csv\")\n",
    "df2021 = pd.read_csv(\"data/df2021.csv\")\n",
    "df2022 = pd.read_csv(\"data/df2022.csv\")"
   ]
  },
  {
   "cell_type": "code",
   "execution_count": 5,
   "metadata": {},
   "outputs": [],
   "source": [
    "df2020.drop(columns = df2020.columns[0], axis = 1, inplace = True)\n",
    "df2021.drop(columns = df2021.columns[0], axis = 1, inplace = True)\n",
    "df2022.drop(columns = df2022.columns[0], axis = 1, inplace = True)"
   ]
  },
  {
   "cell_type": "code",
   "execution_count": 6,
   "metadata": {},
   "outputs": [],
   "source": [
    "df2020['Year'] = 2020\n",
    "df2021['Year'] = 2021\n",
    "df2022['Year'] = 2022"
   ]
  },
  {
   "cell_type": "code",
   "execution_count": 7,
   "metadata": {},
   "outputs": [],
   "source": [
    "df = pd.concat([df2020,df2021,df2022])"
   ]
  },
  {
   "cell_type": "code",
   "execution_count": 8,
   "metadata": {},
   "outputs": [],
   "source": [
    "df.to_csv('data/combineddata.csv', index = False)"
   ]
  },
  {
   "cell_type": "code",
   "execution_count": 9,
   "metadata": {},
   "outputs": [
    {
     "data": {
      "text/plain": [
       "Index(['Player', 'Round', 'DraftNumber', 'PreTeam', 'urlsummary', 'PreType',\n",
       "       'GP', 'GS', 'MIN', 'PTS', 'FGM', 'FGA', 'FG%', '3PM', '3PA', '3P%',\n",
       "       'FTM', 'FTA', 'FT%', 'OFF', 'DEF', 'TRB', 'AST', 'STL', 'BLK', 'TOV',\n",
       "       'PF', 'Position', 'Year'],\n",
       "      dtype='object')"
      ]
     },
     "execution_count": 9,
     "metadata": {},
     "output_type": "execute_result"
    }
   ],
   "source": [
    "df.columns"
   ]
  },
  {
   "cell_type": "code",
   "execution_count": 10,
   "metadata": {},
   "outputs": [],
   "source": [
    "df = pd.read_csv('data/combineddata.csv')"
   ]
  },
  {
   "cell_type": "code",
   "execution_count": 11,
   "metadata": {},
   "outputs": [],
   "source": [
    "modeldf = df.drop(columns = ['Player','Round','PreTeam','urlsummary'], axis = 1)"
   ]
  },
  {
   "cell_type": "code",
   "execution_count": 12,
   "metadata": {},
   "outputs": [],
   "source": [
    "modeldf.reset_index(inplace = True)"
   ]
  },
  {
   "cell_type": "code",
   "execution_count": 13,
   "metadata": {},
   "outputs": [],
   "source": [
    "modeldf = modeldf.drop(modeldf[modeldf['GP']==0].index)"
   ]
  },
  {
   "cell_type": "code",
   "execution_count": 14,
   "metadata": {},
   "outputs": [],
   "source": [
    "modeldf.reset_index(inplace = True)"
   ]
  },
  {
   "cell_type": "code",
   "execution_count": 15,
   "metadata": {},
   "outputs": [],
   "source": [
    "modeldf.drop(columns = 'index', axis = 1, inplace = True)"
   ]
  },
  {
   "cell_type": "code",
   "execution_count": 16,
   "metadata": {},
   "outputs": [],
   "source": [
    "modeldf.drop(columns = 'Year', axis = 1, inplace = True)"
   ]
  },
  {
   "cell_type": "code",
   "execution_count": 17,
   "metadata": {},
   "outputs": [],
   "source": [
    "modeldf.drop(columns = 'level_0', axis = 1, inplace = True)"
   ]
  },
  {
   "cell_type": "code",
   "execution_count": 18,
   "metadata": {},
   "outputs": [],
   "source": [
    "modeldf.to_csv('data/modeldf.csv', index = False)"
   ]
  },
  {
   "cell_type": "markdown",
   "metadata": {},
   "source": [
    "# Pre-processing"
   ]
  },
  {
   "cell_type": "code",
   "execution_count": 19,
   "metadata": {},
   "outputs": [],
   "source": [
    "modeldf = pd.read_csv('data/modeldf.csv')"
   ]
  },
  {
   "cell_type": "code",
   "execution_count": 20,
   "metadata": {},
   "outputs": [],
   "source": [
    "pos2 = []\n",
    "for i in range(len(modeldf)):\n",
    "    if modeldf['Position'][i] == 'G':\n",
    "        pos2.append('PG')\n",
    "    elif modeldf['Position'][i] == 'F':\n",
    "        pos2.append('SF')\n",
    "    elif modeldf['Position'][i] == 'FC':\n",
    "        pos2.append('PF')\n",
    "    elif modeldf['Position'][i] == 'GF':\n",
    "        pos2.append('SG')\n",
    "    else:\n",
    "        pos2.append(modeldf['Position'][i])\n"
   ]
  },
  {
   "cell_type": "code",
   "execution_count": 21,
   "metadata": {},
   "outputs": [],
   "source": [
    "pos3 = []\n",
    "for j in range(len(modeldf)):\n",
    "    if modeldf['Position'][j] == 'G':\n",
    "        pos3.append('SG')\n",
    "    elif modeldf['Position'][j] == 'F':\n",
    "        pos3.append('PF')\n",
    "    elif modeldf['Position'][j] == 'FC':\n",
    "        pos3.append('C')\n",
    "    elif modeldf['Position'][j] == 'GF':\n",
    "        pos3.append('SF')\n",
    "    else:\n",
    "        pos3.append(modeldf['Position'][j])"
   ]
  },
  {
   "cell_type": "code",
   "execution_count": 22,
   "metadata": {},
   "outputs": [],
   "source": [
    "modeldf['Position2'] = pos2\n",
    "modeldf['Position3'] = pos3"
   ]
  },
  {
   "cell_type": "code",
   "execution_count": 23,
   "metadata": {},
   "outputs": [],
   "source": [
    "pos4 = []\n",
    "for k in range(len(modeldf)):\n",
    "    if modeldf['Position2'][k] in ['PG', 'SG']:\n",
    "        pos4.append('Backcourt')\n",
    "    else:\n",
    "        pos4.append('Frontcourt')"
   ]
  },
  {
   "cell_type": "code",
   "execution_count": 24,
   "metadata": {},
   "outputs": [],
   "source": [
    "modeldf['Position4'] = pos4"
   ]
  },
  {
   "cell_type": "code",
   "execution_count": 25,
   "metadata": {},
   "outputs": [],
   "source": [
    "categorical_columns = ['PreType', 'Position', 'Position2', 'Position3', 'Position4']"
   ]
  },
  {
   "cell_type": "code",
   "execution_count": 26,
   "metadata": {},
   "outputs": [],
   "source": [
    "for col in categorical_columns:\n",
    "    col_ohe = pd.get_dummies(modeldf[col], prefix = col)\n",
    "    modeldf = pd.concat((modeldf,col_ohe), axis = 1).drop(col, axis = 1)"
   ]
  },
  {
   "cell_type": "code",
   "execution_count": 27,
   "metadata": {},
   "outputs": [],
   "source": [
    "modeldf.to_csv('data/modeldfcategorical.csv',index = False)"
   ]
  }
 ],
 "metadata": {
  "kernelspec": {
   "display_name": "Python 3 (ipykernel)",
   "language": "python",
   "name": "python3"
  },
  "language_info": {
   "codemirror_mode": {
    "name": "ipython",
    "version": 3
   },
   "file_extension": ".py",
   "mimetype": "text/x-python",
   "name": "python",
   "nbconvert_exporter": "python",
   "pygments_lexer": "ipython3",
   "version": "3.10.4"
  },
  "vscode": {
   "interpreter": {
    "hash": "916dbcbb3f70747c44a77c7bcd40155683ae19c65e1c03b4aa3499c5328201f1"
   }
  }
 },
 "nbformat": 4,
 "nbformat_minor": 4
}
